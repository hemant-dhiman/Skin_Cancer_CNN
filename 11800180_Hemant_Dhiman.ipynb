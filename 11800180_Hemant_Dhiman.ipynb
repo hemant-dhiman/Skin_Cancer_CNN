{
 "cells": [
  {
   "cell_type": "markdown",
   "metadata": {
    "id": "TmJbJRSaSxfY"
   },
   "source": [
    "### **Convolusional Neural Network**\n",
    "\n",
    "Importing Libraries"
   ]
  },
  {
   "cell_type": "code",
   "execution_count": 1,
   "metadata": {
    "id": "mwliT6bSXpUk"
   },
   "outputs": [],
   "source": [
    "import tensorflow as tf\n",
    "from keras.preprocessing.image import ImageDataGenerator"
   ]
  },
  {
   "cell_type": "code",
   "execution_count": 2,
   "metadata": {
    "colab": {
     "base_uri": "https://localhost:8080/",
     "height": 35
    },
    "id": "p1FhS8p2X7Q-",
    "outputId": "fd9a60f1-f80d-4186-8850-933f5f951bea"
   },
   "outputs": [
    {
     "data": {
      "text/plain": [
       "'2.3.1'"
      ]
     },
     "execution_count": 2,
     "metadata": {},
     "output_type": "execute_result"
    }
   ],
   "source": [
    "tf.__version__"
   ]
  },
  {
   "cell_type": "markdown",
   "metadata": {
    "id": "ttmV_gLoSylz"
   },
   "source": [
    "Data Preprocessing\n",
    "\n",
    ">Training Set\n",
    "\n"
   ]
  },
  {
   "cell_type": "code",
   "execution_count": 3,
   "metadata": {
    "id": "dc2Ff9yWYHje"
   },
   "outputs": [
    {
     "name": "stdout",
     "output_type": "stream",
     "text": [
      "Found 1348 images belonging to 2 classes.\n"
     ]
    }
   ],
   "source": [
    "train_data_generator = ImageDataGenerator(\n",
    "    rescale = 1./255,\n",
    "    shear_range = 0.2,\n",
    "    zoom_range=0.2,\n",
    "    horizontal_flip=True\n",
    ")\n",
    "\n",
    "training_set = train_data_generator.flow_from_directory(\n",
    "    'archive//dataset//dataset//train',\n",
    "    target_size=(64, 64),\n",
    "    batch_size=32,\n",
    "    class_mode='binary'\n",
    ")"
   ]
  },
  {
   "cell_type": "markdown",
   "metadata": {
    "id": "X1tklvKuSzDs"
   },
   "source": [
    "Data Preprocessing\n",
    "\n",
    ">Test Set"
   ]
  },
  {
   "cell_type": "code",
   "execution_count": 4,
   "metadata": {
    "id": "UjOJi_HeaAfV"
   },
   "outputs": [
    {
     "name": "stdout",
     "output_type": "stream",
     "text": [
      "Found 176 images belonging to 2 classes.\n"
     ]
    }
   ],
   "source": [
    "test_data_generator = ImageDataGenerator(rescale=1./255)\n",
    "\n",
    "test_set = test_data_generator.flow_from_directory(\n",
    "    'archive//dataset//dataset//test',\n",
    "    target_size=(64, 64),\n",
    "    batch_size=32,\n",
    "    class_mode='binary'\n",
    ")"
   ]
  },
  {
   "cell_type": "markdown",
   "metadata": {
    "id": "Gf1SuZHES2OQ"
   },
   "source": [
    "#### Building the CNN"
   ]
  },
  {
   "cell_type": "markdown",
   "metadata": {
    "id": "F1GPcDa2S2sV"
   },
   "source": [
    "Initializing the CNN"
   ]
  },
  {
   "cell_type": "code",
   "execution_count": 5,
   "metadata": {
    "id": "_MfcAnwtbZHO"
   },
   "outputs": [],
   "source": [
    "cnn = tf.keras.models.Sequential()"
   ]
  },
  {
   "cell_type": "markdown",
   "metadata": {
    "id": "xBBDDi_GS3PU"
   },
   "source": [
    "1. Convolutional"
   ]
  },
  {
   "cell_type": "code",
   "execution_count": 6,
   "metadata": {
    "id": "8lUgYqdvbpfn"
   },
   "outputs": [],
   "source": [
    "cnn.add(tf.keras.layers.Conv2D(filters=32, kernel_size=3, activation='relu', input_shape=[64, 64, 3]))  #adding the first convolutional layer"
   ]
  },
  {
   "cell_type": "markdown",
   "metadata": {
    "id": "zB5p14_oVnzC"
   },
   "source": [
    "2. Pooling"
   ]
  },
  {
   "cell_type": "code",
   "execution_count": 7,
   "metadata": {
    "id": "NzBIJTIncgWu"
   },
   "outputs": [],
   "source": [
    "cnn.add(tf.keras.layers.MaxPool2D(pool_size=2, strides=2, )) # adding pooling layer"
   ]
  },
  {
   "cell_type": "markdown",
   "metadata": {
    "id": "I1u6nCPtVysf"
   },
   "source": [
    "> Adding the flattening layer"
   ]
  },
  {
   "cell_type": "code",
   "execution_count": 8,
   "metadata": {
    "id": "g6VZX41zdHDI"
   },
   "outputs": [],
   "source": [
    "cnn.add(tf.keras.layers.Conv2D(filters=32, kernel_size=3, activation='relu'))  #adding the first convolutional layer\n",
    "cnn.add(tf.keras.layers.MaxPool2D(pool_size=2, strides=2, )) # adding pooling layer"
   ]
  },
  {
   "cell_type": "markdown",
   "metadata": {
    "id": "H_QfqxAsVoHZ"
   },
   "source": [
    "3. Flattening"
   ]
  },
  {
   "cell_type": "code",
   "execution_count": 9,
   "metadata": {
    "id": "7Oa9_GbKdYhp"
   },
   "outputs": [],
   "source": [
    "cnn.add(tf.keras.layers.Flatten()) # adding the flattening layer"
   ]
  },
  {
   "cell_type": "markdown",
   "metadata": {
    "id": "8C3VY9jMVnoK"
   },
   "source": [
    "4. Full Connection"
   ]
  },
  {
   "cell_type": "code",
   "execution_count": 10,
   "metadata": {
    "id": "Oxobq4rDdxm1"
   },
   "outputs": [],
   "source": [
    "cnn.add(tf.keras.layers.Dense(units=128, activation='relu')) # Adding fully connected layer"
   ]
  },
  {
   "cell_type": "markdown",
   "metadata": {
    "id": "idNc_3JaWAyZ"
   },
   "source": [
    "5. Output Layer"
   ]
  },
  {
   "cell_type": "code",
   "execution_count": 11,
   "metadata": {
    "id": "8F5Sr6P3eQHX"
   },
   "outputs": [],
   "source": [
    "cnn.add(tf.keras.layers.Dense(units=1, activation='sigmoid')) # adding output layer"
   ]
  },
  {
   "cell_type": "markdown",
   "metadata": {
    "id": "vuoOuGd5WAZa"
   },
   "source": [
    "#### Training the CNN"
   ]
  },
  {
   "cell_type": "markdown",
   "metadata": {
    "id": "Ta4OBuJ2WRq-"
   },
   "source": [
    "Compiling the CNN"
   ]
  },
  {
   "cell_type": "code",
   "execution_count": 12,
   "metadata": {
    "id": "dTtY_CUcfPQX"
   },
   "outputs": [],
   "source": [
    "cnn.compile(optimizer='adam', loss='binary_crossentropy', metrics=['accuracy'])"
   ]
  },
  {
   "cell_type": "markdown",
   "metadata": {
    "id": "msd9FD8sWSHV"
   },
   "source": [
    "Training the CNN on the training set and evaluating it on the test set"
   ]
  },
  {
   "cell_type": "code",
   "execution_count": 13,
   "metadata": {
    "id": "qdFnDGF1f63l"
   },
   "outputs": [
    {
     "name": "stdout",
     "output_type": "stream",
     "text": [
      "Epoch 1/25\n",
      "43/43 [==============================] - 23s 524ms/step - loss: 0.7320 - accuracy: 0.5111 - val_loss: 0.6983 - val_accuracy: 0.5000\n",
      "Epoch 2/25\n",
      "43/43 [==============================] - 23s 534ms/step - loss: 0.6885 - accuracy: 0.5393 - val_loss: 0.7026 - val_accuracy: 0.4148\n",
      "Epoch 3/25\n",
      "43/43 [==============================] - 20s 467ms/step - loss: 0.6802 - accuracy: 0.5757 - val_loss: 0.7157 - val_accuracy: 0.4432\n",
      "Epoch 4/25\n",
      "43/43 [==============================] - 22s 521ms/step - loss: 0.6784 - accuracy: 0.5794 - val_loss: 0.7473 - val_accuracy: 0.4602\n",
      "Epoch 5/25\n",
      "43/43 [==============================] - 23s 535ms/step - loss: 0.6729 - accuracy: 0.5972 - val_loss: 0.7523 - val_accuracy: 0.4432\n",
      "Epoch 6/25\n",
      "43/43 [==============================] - 19s 439ms/step - loss: 0.6747 - accuracy: 0.5772 - val_loss: 0.7314 - val_accuracy: 0.4091\n",
      "Epoch 7/25\n",
      "43/43 [==============================] - 22s 509ms/step - loss: 0.6468 - accuracy: 0.6372 - val_loss: 0.7722 - val_accuracy: 0.4602\n",
      "Epoch 8/25\n",
      "43/43 [==============================] - 23s 526ms/step - loss: 0.6501 - accuracy: 0.6150 - val_loss: 0.8396 - val_accuracy: 0.3920\n",
      "Epoch 9/25\n",
      "43/43 [==============================] - 19s 438ms/step - loss: 0.6568 - accuracy: 0.6157 - val_loss: 0.7637 - val_accuracy: 0.4261\n",
      "Epoch 10/25\n",
      "43/43 [==============================] - 23s 545ms/step - loss: 0.6474 - accuracy: 0.6313 - val_loss: 0.7809 - val_accuracy: 0.4091\n",
      "Epoch 11/25\n",
      "43/43 [==============================] - 28s 648ms/step - loss: 0.6579 - accuracy: 0.5979 - val_loss: 0.8386 - val_accuracy: 0.3409\n",
      "Epoch 12/25\n",
      "43/43 [==============================] - 24s 562ms/step - loss: 0.6316 - accuracy: 0.6439 - val_loss: 0.8632 - val_accuracy: 0.3580\n",
      "Epoch 13/25\n",
      "43/43 [==============================] - 24s 549ms/step - loss: 0.6040 - accuracy: 0.6699 - val_loss: 0.9213 - val_accuracy: 0.3125\n",
      "Epoch 14/25\n",
      "43/43 [==============================] - 22s 511ms/step - loss: 0.6240 - accuracy: 0.6491 - val_loss: 0.9024 - val_accuracy: 0.3068\n",
      "Epoch 15/25\n",
      "43/43 [==============================] - 20s 458ms/step - loss: 0.6022 - accuracy: 0.6669 - val_loss: 0.9004 - val_accuracy: 0.3239\n",
      "Epoch 16/25\n",
      "43/43 [==============================] - 22s 517ms/step - loss: 0.6009 - accuracy: 0.6884 - val_loss: 0.8908 - val_accuracy: 0.3182\n",
      "Epoch 17/25\n",
      "43/43 [==============================] - 20s 455ms/step - loss: 0.5874 - accuracy: 0.6869 - val_loss: 0.9754 - val_accuracy: 0.3409\n",
      "Epoch 18/25\n",
      "43/43 [==============================] - 26s 604ms/step - loss: 0.6034 - accuracy: 0.6862 - val_loss: 0.8873 - val_accuracy: 0.3125\n",
      "Epoch 19/25\n",
      "43/43 [==============================] - 24s 558ms/step - loss: 0.6088 - accuracy: 0.6602 - val_loss: 0.9064 - val_accuracy: 0.3466\n",
      "Epoch 20/25\n",
      "43/43 [==============================] - 23s 530ms/step - loss: 0.5879 - accuracy: 0.6810 - val_loss: 1.1146 - val_accuracy: 0.3068\n",
      "Epoch 21/25\n",
      "43/43 [==============================] - 24s 549ms/step - loss: 0.5899 - accuracy: 0.6884 - val_loss: 1.0007 - val_accuracy: 0.3125\n",
      "Epoch 22/25\n",
      "43/43 [==============================] - 20s 465ms/step - loss: 0.5880 - accuracy: 0.6832 - val_loss: 0.7502 - val_accuracy: 0.4261\n",
      "Epoch 23/25\n",
      "43/43 [==============================] - 24s 548ms/step - loss: 0.5879 - accuracy: 0.6736 - val_loss: 1.0999 - val_accuracy: 0.3580\n",
      "Epoch 24/25\n",
      "43/43 [==============================] - 20s 472ms/step - loss: 0.5900 - accuracy: 0.6743 - val_loss: 0.8982 - val_accuracy: 0.3182\n",
      "Epoch 25/25\n",
      "43/43 [==============================] - 20s 457ms/step - loss: 0.5806 - accuracy: 0.6884 - val_loss: 1.0350 - val_accuracy: 0.3693\n"
     ]
    },
    {
     "data": {
      "text/plain": [
       "<tensorflow.python.keras.callbacks.History at 0x21f4a3b5898>"
      ]
     },
     "execution_count": 13,
     "metadata": {},
     "output_type": "execute_result"
    }
   ],
   "source": [
    "cnn.fit(x=training_set, validation_data=test_set, epochs=25)"
   ]
  },
  {
   "cell_type": "markdown",
   "metadata": {
    "id": "d90D9iWgWAHs"
   },
   "source": [
    "#### Make a single prediction"
   ]
  },
  {
   "cell_type": "code",
   "execution_count": 20,
   "metadata": {
    "id": "oaY2vWeuWLxh"
   },
   "outputs": [],
   "source": [
    "import numpy as np\n",
    "from keras.preprocessing import image\n",
    "\n",
    "test_image = image.load_img('archive/dataset/dataset/test_1.jpg', target_size=(64, 64)) #false case test image\n",
    "test_image = image.img_to_array(test_image)\n",
    "\n",
    "test_image = np.expand_dims(test_image, axis=0) # adding an extra dimension\n",
    "\n",
    "result = cnn.predict(test_image)\n",
    "\n",
    "training_set.class_indices\n",
    "\n",
    "if result[0][0]:\n",
    "  prediction = 'False'\n",
    "else:\n",
    "  prediction = 'True'\n"
   ]
  },
  {
   "cell_type": "code",
   "execution_count": 21,
   "metadata": {
    "id": "ec53MBSNk5rd"
   },
   "outputs": [
    {
     "name": "stdout",
     "output_type": "stream",
     "text": [
      "False\n"
     ]
    }
   ],
   "source": [
    "print(prediction)"
   ]
  },
  {
   "cell_type": "code",
   "execution_count": 16,
   "metadata": {
    "id": "oaY2vWeuWLxh"
   },
   "outputs": [],
   "source": [
    "import numpy as np\n",
    "from keras.preprocessing import image\n",
    "\n",
    "test_image = image.load_img('archive/dataset/dataset/test_2.jpg', target_size=(64, 64))\n",
    "test_image = image.img_to_array(test_image)\n",
    "\n",
    "test_image = np.expand_dims(test_image, axis=0) # adding an extra dimension\n",
    "\n",
    "result = cnn.predict(test_image)\n",
    "\n",
    "training_set.class_indices\n",
    "\n",
    "if result[0][0]:\n",
    "  prediction = 'True'\n",
    "else:\n",
    "  prediction = 'False'\n"
   ]
  },
  {
   "cell_type": "code",
   "execution_count": 17,
   "metadata": {
    "id": "ec53MBSNk5rd"
   },
   "outputs": [
    {
     "name": "stdout",
     "output_type": "stream",
     "text": [
      "True\n"
     ]
    }
   ],
   "source": [
    "print(prediction)"
   ]
  }
 ],
 "metadata": {
  "colab": {
   "collapsed_sections": [],
   "name": "11800180_Hemant Dhiman.ipynb",
   "provenance": []
  },
  "kernelspec": {
   "display_name": "Python 3",
   "language": "python",
   "name": "python3"
  },
  "language_info": {
   "codemirror_mode": {
    "name": "ipython",
    "version": 3
   },
   "file_extension": ".py",
   "mimetype": "text/x-python",
   "name": "python",
   "nbconvert_exporter": "python",
   "pygments_lexer": "ipython3",
   "version": "3.7.3"
  }
 },
 "nbformat": 4,
 "nbformat_minor": 1
}
